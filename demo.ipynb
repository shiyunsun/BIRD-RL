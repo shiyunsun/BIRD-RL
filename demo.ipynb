{
 "cells": [
  {
   "cell_type": "code",
   "execution_count": 5,
   "id": "bb57ab75",
   "metadata": {},
   "outputs": [],
   "source": [
    "%run network.ipynb"
   ]
  },
  {
   "cell_type": "code",
   "execution_count": 7,
   "id": "4a969fe6",
   "metadata": {},
   "outputs": [
    {
     "name": "stdout",
     "output_type": "stream",
     "text": [
      "Successfully loaded weights from C:\\Users\\shiyu\\Bird-RL\\saved_model\\DQN.pkl!\n",
      "{'score': 101}\n"
     ]
    }
   ],
   "source": [
    "import flappy_bird_gymnasium\n",
    "import gymnasium\n",
    "import random\n",
    "import time\n",
    "import os\n",
    "from datetime import datetime\n",
    "\n",
    "def main():\n",
    "    random.seed(datetime.now().timestamp())\n",
    "    env = gymnasium.make(\"FlappyBird-v0\", render_mode=\"human\")\n",
    "    seed_number = random.randint(1, 100)\n",
    "    obs, _ = env.reset()\n",
    "    num = 0\n",
    "    agent = DQN()\n",
    "    load_w(agent)\n",
    "    while True:\n",
    "        # Next action:\n",
    "        # (feed the observation to your agent here)\n",
    "        action = agent.compute_action(torch.tensor(obs, dtype=torch.float32))\n",
    "\n",
    "        # Processing:\n",
    "        obs, reward, terminated, _, info = env.step(action)\n",
    "        num = num + 1\n",
    "        '''if 0.30556 - 25/230 > obs[0] + 1/6:\n",
    "            time.sleep(10)'''\n",
    "\n",
    "        if terminated:\n",
    "            print(info)\n",
    "            break\n",
    "    env.close()\n",
    "\n",
    "def load_w(model):\n",
    "    log_dir = os.path.abspath(os.path.expanduser(\"saved_model\"))\n",
    "    save_path = os.path.join(log_dir, \"DQN.pkl\")\n",
    "    if os.path.isfile(save_path):\n",
    "        state_dict = torch.load(\n",
    "            save_path,\n",
    "            torch.device('cpu') if not torch.cuda.is_available() else None\n",
    "        )\n",
    "        model.load_state_dict(state_dict[\"model\"])\n",
    "        #optimizer.load_state_dict(state_dict[\"optimizer\"])\n",
    "        print(\"Successfully loaded weights from {}!\".format(save_path))\n",
    "        return True\n",
    "    else:\n",
    "        raise ValueError(\"Failed to load weights from {}! File does not exist!\".format(save_path))\n",
    "\n",
    "main()\n"
   ]
  },
  {
   "cell_type": "code",
   "execution_count": null,
   "id": "8594a4b7",
   "metadata": {},
   "outputs": [],
   "source": []
  },
  {
   "cell_type": "code",
   "execution_count": null,
   "id": "2f82840e",
   "metadata": {},
   "outputs": [],
   "source": []
  }
 ],
 "metadata": {
  "kernelspec": {
   "display_name": "Python 3 (ipykernel)",
   "language": "python",
   "name": "python3"
  },
  "language_info": {
   "codemirror_mode": {
    "name": "ipython",
    "version": 3
   },
   "file_extension": ".py",
   "mimetype": "text/x-python",
   "name": "python",
   "nbconvert_exporter": "python",
   "pygments_lexer": "ipython3",
   "version": "3.11.5"
  }
 },
 "nbformat": 4,
 "nbformat_minor": 5
}
